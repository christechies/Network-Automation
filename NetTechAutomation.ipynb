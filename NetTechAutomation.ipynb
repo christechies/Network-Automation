{
 "cells": [
  {
   "cell_type": "code",
   "execution_count": 53,
   "metadata": {},
   "outputs": [],
   "source": [
    "def return_netAdd(host_add,sub_mask):\n",
    "    ha = host_add.split('.')\n",
    "    sm = sub_mask.split('.')\n",
    "    tmp = ''\n",
    "    na_d = ''\n",
    "    na_b = ''\n",
    "    for a,b in zip(ha,sm):\n",
    "        a_f = bin(int(a)).replace('0b','')\n",
    "        b_f = bin(int(b)).replace('0b','')\n",
    "        if len(bin(int(a)).replace('0b','')) != 8:\n",
    "            a_f = ((8-len(bin(int(a)).replace('0b','')))*'0') + bin(int(a)).replace('0b','')\n",
    "        if len(bin(int(b)).replace('0b','')) != 8:\n",
    "            b_f = ((8-len(bin(int(b)).replace('0b','')))*'0') + bin(int(b)).replace('0b','')\n",
    "        for x,y in zip(a_f,b_f):\n",
    "            if (x == '1') & (y=='1'):\n",
    "                na_b += '1'\n",
    "                tmp += '1'\n",
    "            else:\n",
    "                na_b += '0'\n",
    "                tmp += '0'\n",
    "        na_d+=str(int(tmp,2))\n",
    "        na_d+='.'\n",
    "        na_b+='.'\n",
    "        tmp = ''\n",
    "    return (na_d,na_b)"
   ]
  },
  {
   "cell_type": "code",
   "execution_count": 80,
   "metadata": {},
   "outputs": [],
   "source": [
    "def split_netHost(main_address):\n",
    "    if int(main_address.split('.')[0]) in list(range(1,128)):\n",
    "        return (main_address.split('.')[0],main_address.split('.')[1:])\n",
    "    elif int(main_address.split('.')[0]) in list(range(128,192)):\n",
    "        return (main_address.split('.')[:2],main_address.split('.')[2:])\n",
    "    elif int(main_address.split('.')[0]) in list(range(192,224)):\n",
    "        return (main_address.split('.')[:3],main_address.split('.')[-1])\n",
    "    "
   ]
  },
  {
   "cell_type": "code",
   "execution_count": 153,
   "metadata": {},
   "outputs": [
    {
     "data": {
      "text/plain": [
       "'10.130.46.175'"
      ]
     },
     "execution_count": 153,
     "metadata": {},
     "output_type": "execute_result"
    }
   ],
   "source": [
    "def find_hostAdd(host_add,sub_mask,host_broad=True):\n",
    "    ba = '0' if host_broad == True else '1'\n",
    "    start_split = 0\n",
    "    slash_tag = 0\n",
    "    switch = 1\n",
    "    host_f = ''\n",
    "    for i in sub_mask.split('.'):\n",
    "        if i == '255':\n",
    "            slash_tag += 8\n",
    "        else:\n",
    "            try:\n",
    "                init = (8-len(bin(int(i)).replace('0b','')))*'0' + bin(int(i)).replace('0b','')\n",
    "                slash_tag+=init.index('0')\n",
    "                break\n",
    "            except ValueError:\n",
    "                continue\n",
    "                \n",
    "    for a,x in enumerate(host_add.split('.')):\n",
    "        if slash_tag >=8:\n",
    "            slash_tag-=8\n",
    "            host_f+=x+'{dot}'.format(dot='.' if a != 3 else '')\n",
    "        elif slash_tag <=0:\n",
    "            host_f+='0'+'{dot}'.format(dot='.' if a != 3 else '')\n",
    "        else:\n",
    "            curAd=(8-len(bin(int(x)).replace('0b','')))*'0'+bin(int(x)).replace('0b','')\n",
    "            host_f+=str(int(curAd[:slash_tag] + (8-len(curAd[:slash_tag]))*ba,2))+'{dot}'.format(dot='.' if a != 3 else '')\n",
    "    return host_f\n",
    "find_hostAdd('10.130.46.173','255.255.255.248',host_broad=False)"
   ]
  },
  {
   "cell_type": "code",
   "execution_count": 27,
   "metadata": {},
   "outputs": [
    {
     "data": {
      "text/plain": [
       "['.ipynb_checkpoints', 'Database_Tests.ipynb', 'NetTechAutomation.ipynb']"
      ]
     },
     "execution_count": 27,
     "metadata": {},
     "output_type": "execute_result"
    }
   ],
   "source": [
    "import os\n",
    "# os.getcwd()\n",
    "# os.listdir()\n",
    "# os.mkdir()\n",
    "# os.chdir()\n",
    "# os.path.join(parentdir,newdir)\n",
    "# os.rmdir()\n",
    "# os.path.dirname() -> return to previous dir\n",
    "# IOError\n"
   ]
  },
  {
   "cell_type": "code",
   "execution_count": 38,
   "metadata": {},
   "outputs": [
    {
     "data": {
      "text/plain": [
       "11"
      ]
     },
     "execution_count": 38,
     "metadata": {},
     "output_type": "execute_result"
    }
   ],
   "source": [
    "import datetime\n",
    "\n",
    "#str(datetime.datetime.now()).split(' ')\n"
   ]
  },
  {
   "cell_type": "code",
   "execution_count": 36,
   "metadata": {},
   "outputs": [
    {
     "data": {
      "text/plain": [
       "True"
      ]
     },
     "execution_count": 36,
     "metadata": {},
     "output_type": "execute_result"
    }
   ],
   "source": [
    "os.listdir() == os.listdir()"
   ]
  },
  {
   "cell_type": "code",
   "execution_count": 28,
   "metadata": {},
   "outputs": [
    {
     "data": {
      "text/plain": [
       "'\\nmain folder\\n|\\n|----------------log file\\n|                  |\\n|                  |------(month-year/day-logfiles)\\n|\\n|------------input folder\\n|                |\\n|                |---assorted files addded by user\\n|\\n|-------------output folder\\n|                |\\n|                |---assorted files output by system from the input in user\\n|\\n\\n'"
      ]
     },
     "execution_count": 28,
     "metadata": {},
     "output_type": "execute_result"
    }
   ],
   "source": [
    "'''\n",
    "main folder\n",
    "|\n",
    "|----------------log file\n",
    "|                  |\n",
    "|                  |------(month-year/day-logfiles)\n",
    "|\n",
    "|------------input folder\n",
    "|                |\n",
    "|                |---assorted files addded by user\n",
    "|\n",
    "|-------------output folder\n",
    "|                |\n",
    "|                |---assorted files output by system from the input in user\n",
    "|\n",
    "\n",
    "''' "
   ]
  },
  {
   "cell_type": "code",
   "execution_count": 40,
   "metadata": {},
   "outputs": [
    {
     "data": {
      "text/plain": [
       "'Y:\\\\ASSORT\\\\002 - Initial Data Repository\\\\IDE Data\\\\Jupyter\\\\NB Playground'"
      ]
     },
     "execution_count": 40,
     "metadata": {},
     "output_type": "execute_result"
    }
   ],
   "source": [
    "os.getcwd()"
   ]
  },
  {
   "cell_type": "code",
   "execution_count": 70,
   "metadata": {},
   "outputs": [
    {
     "name": "stdout",
     "output_type": "stream",
     "text": [
      "['nicenicenicenicenicenice']\n",
      "['nice']\n",
      "['nice']\n",
      "['nice']\n",
      "['nice']\n"
     ]
    }
   ],
   "source": [
    "with open(os.path.join(os.getcwd(),'test.txt'),'r+') as fl:\n",
    "    for i in fl.readlines():\n",
    "        print(i.strip().split())"
   ]
  },
  {
   "cell_type": "code",
   "execution_count": 71,
   "metadata": {},
   "outputs": [
    {
     "data": {
      "text/plain": [
       "False"
      ]
     },
     "execution_count": 71,
     "metadata": {},
     "output_type": "execute_result"
    }
   ],
   "source": [
    "bool(0)"
   ]
  },
  {
   "cell_type": "code",
   "execution_count": 82,
   "metadata": {},
   "outputs": [
    {
     "name": "stdin",
     "output_type": "stream",
     "text": [
      "Please specify what you would like to do? One take [0] or file-based [1]? \n",
      " 1\n"
     ]
    },
    {
     "name": "stdout",
     "output_type": "stream",
     "text": [
      "a. #splitNetHost\n",
      "b. #netAdd\n",
      "c. #findHostBroad\n"
     ]
    },
    {
     "name": "stdin",
     "output_type": "stream",
     "text": [
      "Choose what you would like to do? a\n",
      "Enter the IP address: \n",
      " 127.189.180.80\n"
     ]
    },
    {
     "name": "stdout",
     "output_type": "stream",
     "text": [
      "('127', ['189', '180', '80'])\n"
     ]
    },
    {
     "name": "stdin",
     "output_type": "stream",
     "text": [
      "Please specify what you would like to do? One take [0] or file-based [1]? \n",
      " 0\n"
     ]
    },
    {
     "name": "stdout",
     "output_type": "stream",
     "text": [
      "\n",
      "\n"
     ]
    },
    {
     "ename": "KeyboardInterrupt",
     "evalue": "Interrupted by user",
     "output_type": "error",
     "traceback": [
      "\u001b[1;31m---------------------------------------------------------------------------\u001b[0m",
      "\u001b[1;31mKeyboardInterrupt\u001b[0m                         Traceback (most recent call last)",
      "\u001b[1;32m<ipython-input-82-8a55e51c63f7>\u001b[0m in \u001b[0;36m<module>\u001b[1;34m\u001b[0m\n\u001b[0;32m    165\u001b[0m \u001b[1;32mif\u001b[0m \u001b[0m__name__\u001b[0m \u001b[1;33m==\u001b[0m \u001b[1;34m'__main__'\u001b[0m\u001b[1;33m:\u001b[0m\u001b[1;33m\u001b[0m\u001b[1;33m\u001b[0m\u001b[0m\n\u001b[0;32m    166\u001b[0m     \u001b[0mapp\u001b[0m \u001b[1;33m=\u001b[0m \u001b[0mAutoNetwork\u001b[0m\u001b[1;33m(\u001b[0m\u001b[1;33m)\u001b[0m\u001b[1;33m\u001b[0m\u001b[1;33m\u001b[0m\u001b[0m\n\u001b[1;32m--> 167\u001b[1;33m     \u001b[0mapp\u001b[0m\u001b[1;33m.\u001b[0m\u001b[0mmain\u001b[0m\u001b[1;33m(\u001b[0m\u001b[1;33m)\u001b[0m\u001b[1;33m\u001b[0m\u001b[1;33m\u001b[0m\u001b[0m\n\u001b[0m",
      "\u001b[1;32m<ipython-input-82-8a55e51c63f7>\u001b[0m in \u001b[0;36mmain\u001b[1;34m(self)\u001b[0m\n\u001b[0;32m    158\u001b[0m                 \u001b[1;32mfor\u001b[0m \u001b[0mi\u001b[0m \u001b[1;32min\u001b[0m \u001b[0mself\u001b[0m\u001b[1;33m.\u001b[0m\u001b[0mos\u001b[0m\u001b[1;33m.\u001b[0m\u001b[0mlistdir\u001b[0m\u001b[1;33m(\u001b[0m\u001b[0minp_dir\u001b[0m\u001b[1;33m)\u001b[0m\u001b[1;33m:\u001b[0m\u001b[1;33m\u001b[0m\u001b[1;33m\u001b[0m\u001b[0m\n\u001b[0;32m    159\u001b[0m                     \u001b[0mprint\u001b[0m\u001b[1;33m(\u001b[0m\u001b[0mi\u001b[0m\u001b[1;33m+\u001b[0m\u001b[1;34m'\\n'\u001b[0m\u001b[1;33m)\u001b[0m\u001b[1;33m\u001b[0m\u001b[1;33m\u001b[0m\u001b[0m\n\u001b[1;32m--> 160\u001b[1;33m                 \u001b[0mtxtfile\u001b[0m \u001b[1;33m=\u001b[0m \u001b[0minput\u001b[0m\u001b[1;33m(\u001b[0m\u001b[1;34m'Choose which file to read: \\n'\u001b[0m\u001b[1;33m)\u001b[0m\u001b[1;33m\u001b[0m\u001b[1;33m\u001b[0m\u001b[0m\n\u001b[0m\u001b[0;32m    161\u001b[0m                 \u001b[0mself\u001b[0m\u001b[1;33m.\u001b[0m\u001b[0mrel_output\u001b[0m\u001b[1;33m(\u001b[0m\u001b[0mself\u001b[0m\u001b[1;33m.\u001b[0m\u001b[0mread_txt\u001b[0m\u001b[1;33m(\u001b[0m\u001b[0mtxtfile\u001b[0m\u001b[1;33m)\u001b[0m\u001b[1;33m)\u001b[0m\u001b[1;33m\u001b[0m\u001b[1;33m\u001b[0m\u001b[0m\n\u001b[0;32m    162\u001b[0m                 \u001b[0mprint\u001b[0m\u001b[1;33m(\u001b[0m\u001b[1;34m'Check the output file in: {dest}'\u001b[0m\u001b[1;33m.\u001b[0m\u001b[0mformat\u001b[0m\u001b[1;33m(\u001b[0m\u001b[0mdest\u001b[0m\u001b[1;33m=\u001b[0m\u001b[0mout_dir\u001b[0m\u001b[1;33m)\u001b[0m\u001b[1;33m)\u001b[0m\u001b[1;33m\u001b[0m\u001b[1;33m\u001b[0m\u001b[0m\n",
      "\u001b[1;32mc:\\users\\chris\\appdata\\local\\programs\\python\\python38\\lib\\site-packages\\ipykernel\\kernelbase.py\u001b[0m in \u001b[0;36mraw_input\u001b[1;34m(self, prompt)\u001b[0m\n\u001b[0;32m    858\u001b[0m                 \u001b[1;34m\"raw_input was called, but this frontend does not support input requests.\"\u001b[0m\u001b[1;33m\u001b[0m\u001b[1;33m\u001b[0m\u001b[0m\n\u001b[0;32m    859\u001b[0m             )\n\u001b[1;32m--> 860\u001b[1;33m         return self._input_request(str(prompt),\n\u001b[0m\u001b[0;32m    861\u001b[0m             \u001b[0mself\u001b[0m\u001b[1;33m.\u001b[0m\u001b[0m_parent_ident\u001b[0m\u001b[1;33m,\u001b[0m\u001b[1;33m\u001b[0m\u001b[1;33m\u001b[0m\u001b[0m\n\u001b[0;32m    862\u001b[0m             \u001b[0mself\u001b[0m\u001b[1;33m.\u001b[0m\u001b[0m_parent_header\u001b[0m\u001b[1;33m,\u001b[0m\u001b[1;33m\u001b[0m\u001b[1;33m\u001b[0m\u001b[0m\n",
      "\u001b[1;32mc:\\users\\chris\\appdata\\local\\programs\\python\\python38\\lib\\site-packages\\ipykernel\\kernelbase.py\u001b[0m in \u001b[0;36m_input_request\u001b[1;34m(self, prompt, ident, parent, password)\u001b[0m\n\u001b[0;32m    902\u001b[0m             \u001b[1;32mexcept\u001b[0m \u001b[0mKeyboardInterrupt\u001b[0m\u001b[1;33m:\u001b[0m\u001b[1;33m\u001b[0m\u001b[1;33m\u001b[0m\u001b[0m\n\u001b[0;32m    903\u001b[0m                 \u001b[1;31m# re-raise KeyboardInterrupt, to truncate traceback\u001b[0m\u001b[1;33m\u001b[0m\u001b[1;33m\u001b[0m\u001b[1;33m\u001b[0m\u001b[0m\n\u001b[1;32m--> 904\u001b[1;33m                 \u001b[1;32mraise\u001b[0m \u001b[0mKeyboardInterrupt\u001b[0m\u001b[1;33m(\u001b[0m\u001b[1;34m\"Interrupted by user\"\u001b[0m\u001b[1;33m)\u001b[0m \u001b[1;32mfrom\u001b[0m \u001b[1;32mNone\u001b[0m\u001b[1;33m\u001b[0m\u001b[1;33m\u001b[0m\u001b[0m\n\u001b[0m\u001b[0;32m    905\u001b[0m             \u001b[1;32mexcept\u001b[0m \u001b[0mException\u001b[0m \u001b[1;32mas\u001b[0m \u001b[0me\u001b[0m\u001b[1;33m:\u001b[0m\u001b[1;33m\u001b[0m\u001b[1;33m\u001b[0m\u001b[0m\n\u001b[0;32m    906\u001b[0m                 \u001b[0mself\u001b[0m\u001b[1;33m.\u001b[0m\u001b[0mlog\u001b[0m\u001b[1;33m.\u001b[0m\u001b[0mwarning\u001b[0m\u001b[1;33m(\u001b[0m\u001b[1;34m\"Invalid Message:\"\u001b[0m\u001b[1;33m,\u001b[0m \u001b[0mexc_info\u001b[0m\u001b[1;33m=\u001b[0m\u001b[1;32mTrue\u001b[0m\u001b[1;33m)\u001b[0m\u001b[1;33m\u001b[0m\u001b[1;33m\u001b[0m\u001b[0m\n",
      "\u001b[1;31mKeyboardInterrupt\u001b[0m: Interrupted by user"
     ]
    }
   ],
   "source": [
    "class AutoNetwork:\n",
    "    def __init__(self):\n",
    "        self.os = __import__('os')\n",
    "        self.dt = __import__('datetime')\n",
    "        self.outer_f = 'main'\n",
    "        self.inner_f = ['input_f','output_f']\n",
    "        self.input_txt = {'#splitNetHost':list(),'#netAdd':list(),'#findHostBroad':list()}\n",
    "        \n",
    "    def check_dir(self):\n",
    "        try:\n",
    "            self.os.chdir(self.os.path.join(self.os.getcwd(),self.outer_f))\n",
    "            if self.inner_f == self.os.listdir(self.os.getcwd()):\n",
    "                return True\n",
    "            else:\n",
    "                self.os.chdir(self.os.path.dirname(self.os.getcwd()))\n",
    "                print(self.os.getcwd())\n",
    "                self.os.rmdir(self.os.path.join(self.os.getcwd(),self.outer_f))\n",
    "                return False\n",
    "        except FileNotFoundError:\n",
    "            return False\n",
    "        \n",
    "    def set_dir(self):\n",
    "        self.os.mkdir(self.os.path.join(self.os.getcwd(),self.outer_f))\n",
    "        self.os.chdir(self.os.path.join(self.os.getcwd(),self.outer_f))\n",
    "        for i in self.inner_f:\n",
    "            self.os.mkdir(self.os.path.join(self.os.getcwd(),i))\n",
    "        self.os.chdir(self.os.path.dirname(self.os.getcwd()))\n",
    "                    \n",
    "            \n",
    "    def read_txt(self,txtname):\n",
    "        inp_dir = self.os.path.join(self.os.getcwd(),self.inner_f[0])\n",
    "        with open(self.os.path.join(inp_dir,txtname),'r') as file:\n",
    "            for i in file.readlines():\n",
    "                if i.strip() in self.input_txt:\n",
    "                    self.input_txt[i.strip()].append(i)\n",
    "        return txtname\n",
    "                \n",
    "    def split_netHost(self,main_address):\n",
    "        if int(main_address.split('.')[0]) in list(range(1,128)):\n",
    "            return (main_address.split('.')[0],main_address.split('.')[1:])\n",
    "        elif int(main_address.split('.')[0]) in list(range(128,192)):\n",
    "            return (main_address.split('.')[:2],main_address.split('.')[2:])\n",
    "        elif int(main_address.split('.')[0]) in list(range(192,224)):\n",
    "            return (main_address.split('.')[:3],main_address.split('.')[-1])\n",
    "    \n",
    "    def return_netAdd(self,host_add,sub_mask):\n",
    "        ha = host_add.split('.')\n",
    "        sm = sub_mask.split('.')\n",
    "        tmp = ''\n",
    "        na_d = ''\n",
    "        na_b = ''\n",
    "        for a,b in zip(ha,sm):\n",
    "            a_f = bin(int(a)).replace('0b','')\n",
    "            b_f = bin(int(b)).replace('0b','')\n",
    "            if len(bin(int(a)).replace('0b','')) != 8:\n",
    "                a_f = ((8-len(bin(int(a)).replace('0b','')))*'0') + bin(int(a)).replace('0b','')\n",
    "            if len(bin(int(b)).replace('0b','')) != 8:\n",
    "                b_f = ((8-len(bin(int(b)).replace('0b','')))*'0') + bin(int(b)).replace('0b','')\n",
    "            for x,y in zip(a_f,b_f):\n",
    "                if (x == '1') & (y=='1'):\n",
    "                    na_b += '1'\n",
    "                    tmp += '1'\n",
    "                else:\n",
    "                    na_b += '0'\n",
    "                    tmp += '0'\n",
    "            na_d+=str(int(tmp,2))\n",
    "            na_d+='.'\n",
    "            na_b+='.'\n",
    "            tmp = ''\n",
    "        return (na_d,na_b)\n",
    "    def find_hostBroad(self,host_add,sub_mask,host_broad=True):\n",
    "        ba = '0' if host_broad == True else '1'\n",
    "        start_split = 0\n",
    "        slash_tag = 0\n",
    "        switch = 1\n",
    "        host_f = ''\n",
    "        for i in sub_mask.split('.'):\n",
    "            if i == '255':\n",
    "                slash_tag += 8\n",
    "            else:\n",
    "                try:\n",
    "                    init = (8-len(bin(int(i)).replace('0b','')))*'0' + bin(int(i)).replace('0b','')\n",
    "                    slash_tag+=init.index('0')\n",
    "                    break\n",
    "                except ValueError:\n",
    "                    continue\n",
    "                \n",
    "        for a,x in enumerate(host_add.split('.')):\n",
    "            if slash_tag >=8:\n",
    "                slash_tag-=8\n",
    "                host_f+=x+'{dot}'.format(dot='.' if a != 3 else '')\n",
    "            elif slash_tag <=0:\n",
    "                host_f+='0'+'{dot}'.format(dot='.' if a != 3 else '')\n",
    "            else:\n",
    "                curAd=(8-len(bin(int(x)).replace('0b','')))*'0'+bin(int(x)).replace('0b','')\n",
    "                host_f+=str(int(curAd[:slash_tag] + (8-len(curAd[:slash_tag]))*ba,2))+'{dot}'.format(dot='.' if a != 3 else '')\n",
    "        return host_f\n",
    "    \n",
    "    def rel_output(self,retname):\n",
    "        retname = 'out-{txt}'.format(txt=retname)\n",
    "        out_dir = self.os.path.join(self.os.getcwd(),self.inner_f[1])\n",
    "        inp_check = [0,0,0]\n",
    "        for x in self.input_txt.keys():\n",
    "            if x == self.input_txt.keys()[0]:\n",
    "                if inp_check[0] == 0:\n",
    "                    with open(self.os.path.join(out_dir,retname),'a+') as file:\n",
    "                        file.write(x+'\\n')\n",
    "                    inp_check[0]+=1\n",
    "                for i in self.input_txt[x]:\n",
    "                    with open(self.os.path.join(out_dir,retname),'a+') as file:\n",
    "                        file.write(self.split_netHost(i)+'\\n')\n",
    "                    \n",
    "            elif x == self.input_txt.keys()[1]:\n",
    "                if inp_check[1] == 0:\n",
    "                    with open(self.os.path.join(out_dir,retname),'a+') as file:\n",
    "                        file.write(x+'\\n')\n",
    "                    inp_check[1]+=1\n",
    "                for i in self.input_txt[x]:\n",
    "                    with open(self.os.path.join(out_dir,retname),'a+') as file:\n",
    "                        file.write(self.return_netAdd(i.split(',')[0],i.split(',')[1])+'\\n')\n",
    "                        \n",
    "            elif x == self.input_txt.keys()[2]:\n",
    "                if inp_check[2] == 0:\n",
    "                    with open(self.os.path.join(out_dir,retname),'a+') as file:\n",
    "                        file.write(x+'\\n')\n",
    "                    inp_check[2]+=1\n",
    "                for i in self.input_txt[x]:\n",
    "                    with open(self.os.path.join(out_dir,retname),'a+') as file:\n",
    "                        file.write(self.find_hostBroad(i.split(',')[0],i.split(',')[1],bool(i.split(',')[2]))+'n')\n",
    "\n",
    "    def main(self):\n",
    "        inp_dir = self.os.path.join(self.os.getcwd(),self.inner_f[0])\n",
    "        out_dir = self.os.path.join(self.os.getcwd(),self.inner_f[1])\n",
    "        if self.check_dir() == False:\n",
    "            self.set_dir()\n",
    "        \n",
    "        while True:\n",
    "            user_inp = input('Please specify what you would like to do? One take [0] or file-based [1]? \\n')\n",
    "            if int(user_inp):\n",
    "                for a,b in zip(self.input_txt.keys(),['a. ','b. ','c. ']):\n",
    "                    print(b+a)\n",
    "                user2 = input('Choose what you would like to do?')\n",
    "                if 'a,b,c'.split(',').index(str(user2).strip()) == 0:\n",
    "                    address = input('Enter the IP address: \\n')\n",
    "                    print(self.split_netHost(str(address).strip()))\n",
    "                    \n",
    "                elif 'a,b,c'.split(',').index(str(user2)) == 1:\n",
    "                    ha = str(input('Enter Host IP Address: \\n'))\n",
    "                    sm = str(input('Enter Subnet Mask: \\n'))\n",
    "                    print(self.return_netAdd(ha,sm))\n",
    "                elif 'a,b,c'.split(',').index(str(user2)) == 2:\n",
    "                    ha = str(input('Enter Host IP Address: \\n'))\n",
    "                    sm = str(input('Enter Subnet Mask: \\n'))\n",
    "                    tf = int(input('Host or Broadcast [1/0]? \\n'))\n",
    "                    self.find_hostBroad(ha,sm,bool(tf))\n",
    "            else:\n",
    "                print('\\n')\n",
    "                for i in self.os.listdir(inp_dir):\n",
    "                    print(i+'\\n')\n",
    "                txtfile = input('Choose which file to read: \\n')\n",
    "                self.rel_output(self.read_txt(txtfile))\n",
    "                print('Check the output file in: {dest}'.format(dest=out_dir))\n",
    "                \n",
    "            \n",
    "if __name__ == '__main__':\n",
    "    app = AutoNetwork()\n",
    "    app.main()"
   ]
  }
 ],
 "metadata": {
  "kernelspec": {
   "display_name": "Python 3",
   "language": "python",
   "name": "python3"
  },
  "language_info": {
   "codemirror_mode": {
    "name": "ipython",
    "version": 3
   },
   "file_extension": ".py",
   "mimetype": "text/x-python",
   "name": "python",
   "nbconvert_exporter": "python",
   "pygments_lexer": "ipython3",
   "version": "3.8.5"
  }
 },
 "nbformat": 4,
 "nbformat_minor": 4
}
